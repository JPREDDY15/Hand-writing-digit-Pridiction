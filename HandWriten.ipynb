{
  "nbformat": 4,
  "nbformat_minor": 0,
  "metadata": {
    "colab": {
      "provenance": []
    },
    "kernelspec": {
      "name": "python3",
      "display_name": "Python 3"
    },
    "language_info": {
      "name": "python"
    }
  },
  "cells": [
    {
      "cell_type": "markdown",
      "source": [
        "## **Hand Written Digit Prediction-Classification Analysis**"
      ],
      "metadata": {
        "id": "pssR8it5LU06"
      }
    },
    {
      "cell_type": "markdown",
      "source": [
        "The digits Dataset Consists of 8x8 pixel images of digits.The image attributes of the dataset stores 8x8 arrays of grayscale values for each image.We will use these arrays to visualize the first 4 images.The target attribute of the dataset stores the digit each image represents"
      ],
      "metadata": {
        "id": "uz0-alhjLuJ_"
      }
    },
    {
      "cell_type": "markdown",
      "source": [
        "## **Import Library**"
      ],
      "metadata": {
        "id": "Dxn2n3MBONyo"
      }
    },
    {
      "cell_type": "code",
      "source": [
        "import pandas as pd"
      ],
      "metadata": {
        "id": "Og9d4IK8NFlc"
      },
      "execution_count": null,
      "outputs": []
    },
    {
      "cell_type": "code",
      "source": [
        "import numpy as np"
      ],
      "metadata": {
        "id": "G0xnrzoCNijh"
      },
      "execution_count": null,
      "outputs": []
    },
    {
      "cell_type": "code",
      "source": [
        "import matplotlib.pyplot as plt"
      ],
      "metadata": {
        "id": "nq7qFng6NueE"
      },
      "execution_count": null,
      "outputs": []
    },
    {
      "cell_type": "markdown",
      "source": [
        "## **Import Data**"
      ],
      "metadata": {
        "id": "t0hmM00NOqIJ"
      }
    },
    {
      "cell_type": "code",
      "source": [
        "from sklearn.datasets import load_digits"
      ],
      "metadata": {
        "id": "tLdegbo8OyAI"
      },
      "execution_count": null,
      "outputs": []
    },
    {
      "cell_type": "code",
      "source": [
        "df=load_digits()"
      ],
      "metadata": {
        "id": "81ofAEOXO7PD"
      },
      "execution_count": null,
      "outputs": []
    },
    {
      "cell_type": "code",
      "source": [
        "_, axes=plt.subplots(nrows=1,ncols=4,figsize=(10,3))\n",
        "for ax,image,label in zip(axes,df.images,df.target):\n",
        "    ax.set_axis_off()\n",
        "    ax.imshow(image,cmap=plt.cm.gray_r,interpolation=\"nearest\")\n",
        "    ax.set_title(\"training:%i\"%label)\n"
      ],
      "metadata": {
        "colab": {
          "base_uri": "https://localhost:8080/",
          "height": 227
        },
        "id": "oOFPaYMcgbQ-",
        "outputId": "af0124be-018a-42b2-bf10-03b3b33ba8c5"
      },
      "execution_count": null,
      "outputs": [
        {
          "output_type": "display_data",
          "data": {
            "text/plain": [
              "<Figure size 1000x300 with 4 Axes>"
            ],
            "image/png": "[encoded data removed]"
          },
          "metadata": {}
        }
      ]
    },
    {
      "cell_type": "markdown",
      "source": [
        "## **Data Preprocessing**"
      ],
      "metadata": {
        "id": "dL4bXmLlx6Rk"
      }
    },
    {
      "cell_type": "markdown",
      "source": [
        "### **Flatten Image**"
      ],
      "metadata": {
        "id": "J0elNC5IyG7d"
      }
    },
    {
      "cell_type": "markdown",
      "source": [
        "![image.png](data:image/png;base64,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)"
      ],
      "metadata": {
        "id": "xqxN709EyTh6"
      }
    },
    {
      "cell_type": "code",
      "source": [
        "df.images.shape"
      ],
      "metadata": {
        "colab": {
          "base_uri": "https://localhost:8080/"
        },
        "id": "NXaS2mobyzlA",
        "outputId": "d73fcea2-ffa8-4b8e-8401-2241416c3982"
      },
      "execution_count": null,
      "outputs": [
        {
          "output_type": "execute_result",
          "data": {
            "text/plain": [
              "(1797, 8, 8)"
            ]
          },
          "metadata": {},
          "execution_count": 11
        }
      ]
    },
    {
      "cell_type": "code",
      "source": [
        "df.images[0]"
      ],
      "metadata": {
        "colab": {
          "base_uri": "https://localhost:8080/"
        },
        "id": "7qJhZ6hky-kW",
        "outputId": "d425cc68-2fbc-415c-c741-9033d61f631d"
      },
      "execution_count": null,
      "outputs": [
        {
          "output_type": "execute_result",
          "data": {
            "text/plain": [
              "array([[ 0.,  0.,  5., 13.,  9.,  1.,  0.,  0.],\n",
              "       [ 0.,  0., 13., 15., 10., 15.,  5.,  0.],\n",
              "       [ 0.,  3., 15.,  2.,  0., 11.,  8.,  0.],\n",
              "       [ 0.,  4., 12.,  0.,  0.,  8.,  8.,  0.],\n",
              "       [ 0.,  5.,  8.,  0.,  0.,  9.,  8.,  0.],\n",
              "       [ 0.,  4., 11.,  0.,  1., 12.,  7.,  0.],\n",
              "       [ 0.,  2., 14.,  5., 10., 12.,  0.,  0.],\n",
              "       [ 0.,  0.,  6., 13., 10.,  0.,  0.,  0.]])"
            ]
          },
          "metadata": {},
          "execution_count": 12
        }
      ]
    },
    {
      "cell_type": "code",
      "source": [
        "df.images[0].shape"
      ],
      "metadata": {
        "colab": {
          "base_uri": "https://localhost:8080/"
        },
        "id": "nlUDCcajzFSL",
        "outputId": "290be4f3-d0ad-41eb-b1a3-ff305eb62f72"
      },
      "execution_count": null,
      "outputs": [
        {
          "output_type": "execute_result",
          "data": {
            "text/plain": [
              "(8, 8)"
            ]
          },
          "metadata": {},
          "execution_count": 13
        }
      ]
    },
    {
      "cell_type": "code",
      "source": [
        "n_samples = len(df.images)\n",
        "data = df.images.reshape(n_samples, -1)"
      ],
      "metadata": {
        "id": "3nW0fvsnzFaX"
      },
      "execution_count": null,
      "outputs": []
    },
    {
      "cell_type": "code",
      "source": [
        "data[0]"
      ],
      "metadata": {
        "colab": {
          "base_uri": "https://localhost:8080/"
        },
        "id": "Bk_32OG6zFjU",
        "outputId": "e7e173e2-054c-4288-94b9-4932a070d1b1"
      },
      "execution_count": null,
      "outputs": [
        {
          "output_type": "execute_result",
          "data": {
            "text/plain": [
              "array([ 0.,  0.,  5., 13.,  9.,  1.,  0.,  0.,  0.,  0., 13., 15., 10.,\n",
              "       15.,  5.,  0.,  0.,  3., 15.,  2.,  0., 11.,  8.,  0.,  0.,  4.,\n",
              "       12.,  0.,  0.,  8.,  8.,  0.,  0.,  5.,  8.,  0.,  0.,  9.,  8.,\n",
              "        0.,  0.,  4., 11.,  0.,  1., 12.,  7.,  0.,  0.,  2., 14.,  5.,\n",
              "       10., 12.,  0.,  0.,  0.,  0.,  6., 13., 10.,  0.,  0.,  0.])"
            ]
          },
          "metadata": {},
          "execution_count": 15
        }
      ]
    },
    {
      "cell_type": "code",
      "source": [
        "data[0].shape"
      ],
      "metadata": {
        "colab": {
          "base_uri": "https://localhost:8080/"
        },
        "id": "MdwckWubzFsQ",
        "outputId": "8016173f-c2a5-40f0-d2c2-4ed6d77b066c"
      },
      "execution_count": null,
      "outputs": [
        {
          "output_type": "execute_result",
          "data": {
            "text/plain": [
              "(64,)"
            ]
          },
          "metadata": {},
          "execution_count": 16
        }
      ]
    },
    {
      "cell_type": "code",
      "source": [
        "data.shape"
      ],
      "metadata": {
        "colab": {
          "base_uri": "https://localhost:8080/"
        },
        "id": "AN4d00hmzF0t",
        "outputId": "ab3c6668-e350-47c6-fced-edf379f0b407"
      },
      "execution_count": null,
      "outputs": [
        {
          "output_type": "execute_result",
          "data": {
            "text/plain": [
              "(1797, 64)"
            ]
          },
          "metadata": {},
          "execution_count": 17
        }
      ]
    },
    {
      "cell_type": "markdown",
      "source": [
        "## **Scaling Image data**"
      ],
      "metadata": {
        "id": "sFSHIRZZzb3T"
      }
    },
    {
      "cell_type": "code",
      "source": [
        "data.min()"
      ],
      "metadata": {
        "colab": {
          "base_uri": "https://localhost:8080/"
        },
        "id": "V5sZkyWKzT3q",
        "outputId": "a42f8350-2305-4707-a6bf-8115f8543eba"
      },
      "execution_count": null,
      "outputs": [
        {
          "output_type": "execute_result",
          "data": {
            "text/plain": [
              "0.0"
            ]
          },
          "metadata": {},
          "execution_count": 20
        }
      ]
    },
    {
      "cell_type": "code",
      "source": [
        "data.max()"
      ],
      "metadata": {
        "colab": {
          "base_uri": "https://localhost:8080/"
        },
        "id": "RoVRhNZRzT6F",
        "outputId": "a798023e-8e5e-4755-c3f4-edf8e6b2637c"
      },
      "execution_count": null,
      "outputs": [
        {
          "output_type": "execute_result",
          "data": {
            "text/plain": [
              "16.0"
            ]
          },
          "metadata": {},
          "execution_count": 19
        }
      ]
    },
    {
      "cell_type": "code",
      "source": [
        "data[0]"
      ],
      "metadata": {
        "colab": {
          "base_uri": "https://localhost:8080/"
        },
        "id": "pJKwEXBizT8H",
        "outputId": "823b522e-5851-4a62-8ff6-d3c3c38eabf8"
      },
      "execution_count": null,
      "outputs": [
        {
          "output_type": "execute_result",
          "data": {
            "text/plain": [
              "array([ 0.,  0.,  5., 13.,  9.,  1.,  0.,  0.,  0.,  0., 13., 15., 10.,\n",
              "       15.,  5.,  0.,  0.,  3., 15.,  2.,  0., 11.,  8.,  0.,  0.,  4.,\n",
              "       12.,  0.,  0.,  8.,  8.,  0.,  0.,  5.,  8.,  0.,  0.,  9.,  8.,\n",
              "        0.,  0.,  4., 11.,  0.,  1., 12.,  7.,  0.,  0.,  2., 14.,  5.,\n",
              "       10., 12.,  0.,  0.,  0.,  0.,  6., 13., 10.,  0.,  0.,  0.])"
            ]
          },
          "metadata": {},
          "execution_count": 21
        }
      ]
    },
    {
      "cell_type": "markdown",
      "source": [
        "## **Train Test Split Data**"
      ],
      "metadata": {
        "id": "UYm43fvaz0MQ"
      }
    },
    {
      "cell_type": "code",
      "source": [
        "from sklearn.model_selection import train_test_split"
      ],
      "metadata": {
        "id": "oRe8OlQEzT-c"
      },
      "execution_count": null,
      "outputs": []
    },
    {
      "cell_type": "code",
      "source": [
        "X_train, X_test, y_train, y_test, = train_test_split(data, df.target, test_size=0.3)"
      ],
      "metadata": {
        "id": "YcJKYy10zUAt"
      },
      "execution_count": null,
      "outputs": []
    },
    {
      "cell_type": "code",
      "source": [
        "X_train.shape, X_test.shape, y_train.shape, y_test.shape"
      ],
      "metadata": {
        "colab": {
          "base_uri": "https://localhost:8080/"
        },
        "id": "pB-V7J1uzUEO",
        "outputId": "b87a4157-0a1c-4470-c8b4-4110778a0c8f"
      },
      "execution_count": null,
      "outputs": [
        {
          "output_type": "execute_result",
          "data": {
            "text/plain": [
              "((1257, 64), (540, 64), (1257,), (540,))"
            ]
          },
          "metadata": {},
          "execution_count": 24
        }
      ]
    },
    {
      "cell_type": "markdown",
      "source": [
        "## **Random forest model**"
      ],
      "metadata": {
        "id": "t995eXSE0qbg"
      }
    },
    {
      "cell_type": "code",
      "source": [
        "from sklearn.ensemble import RandomForestClassifier"
      ],
      "metadata": {
        "id": "0eORzEKL0ubr"
      },
      "execution_count": null,
      "outputs": []
    },
    {
      "cell_type": "code",
      "source": [
        "rf = RandomForestClassifier()"
      ],
      "metadata": {
        "id": "Apocqik00uiD"
      },
      "execution_count": null,
      "outputs": []
    },
    {
      "cell_type": "code",
      "source": [
        "rf.fit(X_train, y_train)"
      ],
      "metadata": {
        "colab": {
          "base_uri": "https://localhost:8080/",
          "height": 74
        },
        "id": "OZaZDHPj0uqS",
        "outputId": "aa3f78a2-5ac4-4a44-8816-6b05e2244ed3"
      },
      "execution_count": null,
      "outputs": [
        {
          "output_type": "execute_result",
          "data": {
            "text/plain": [
              "RandomForestClassifier()"
            ],
            "text/html": [
              "<style>#sk-container-id-1 {color: black;background-color: white;}#sk-container-id-1 pre{padding: 0;}#sk-container-id-1 div.sk-toggleable {background-color: white;}#sk-container-id-1 label.sk-toggleable__label {cursor: pointer;display: block;width: 100%;margin-bottom: 0;padding: 0.3em;box-sizing: border-box;text-align: center;}#sk-container-id-1 label.sk-toggleable__label-arrow:before {content: \"▸\";float: left;margin-right: 0.25em;color: #696969;}#sk-container-id-1 label.sk-toggleable__label-arrow:hover:before {color: black;}#sk-container-id-1 div.sk-estimator:hover label.sk-toggleable__label-arrow:before {color: black;}#sk-container-id-1 div.sk-toggleable__content {max-height: 0;max-width: 0;overflow: hidden;text-align: left;background-color: #f0f8ff;}#sk-container-id-1 div.sk-toggleable__content pre {margin: 0.2em;color: black;border-radius: 0.25em;background-color: #f0f8ff;}#sk-container-id-1 input.sk-toggleable__control:checked~div.sk-toggleable__content {max-height: 200px;max-width: 100%;overflow: auto;}#sk-container-id-1 input.sk-toggleable__control:checked~label.sk-toggleable__label-arrow:before {content: \"▾\";}#sk-container-id-1 div.sk-estimator input.sk-toggleable__control:checked~label.sk-toggleable__label {background-color: #d4ebff;}#sk-container-id-1 div.sk-label input.sk-toggleable__control:checked~label.sk-toggleable__label {background-color: #d4ebff;}#sk-container-id-1 input.sk-hidden--visually {border: 0;clip: rect(1px 1px 1px 1px);clip: rect(1px, 1px, 1px, 1px);height: 1px;margin: -1px;overflow: hidden;padding: 0;position: absolute;width: 1px;}#sk-container-id-1 div.sk-estimator {font-family: monospace;background-color: #f0f8ff;border: 1px dotted black;border-radius: 0.25em;box-sizing: border-box;margin-bottom: 0.5em;}#sk-container-id-1 div.sk-estimator:hover {background-color: #d4ebff;}#sk-container-id-1 div.sk-parallel-item::after {content: \"\";width: 100%;border-bottom: 1px solid gray;flex-grow: 1;}#sk-container-id-1 div.sk-label:hover label.sk-toggleable__label {background-color: #d4ebff;}#sk-container-id-1 div.sk-serial::before {content: \"\";position: absolute;border-left: 1px solid gray;box-sizing: border-box;top: 0;bottom: 0;left: 50%;z-index: 0;}#sk-container-id-1 div.sk-serial {display: flex;flex-direction: column;align-items: center;background-color: white;padding-right: 0.2em;padding-left: 0.2em;position: relative;}#sk-container-id-1 div.sk-item {position: relative;z-index: 1;}#sk-container-id-1 div.sk-parallel {display: flex;align-items: stretch;justify-content: center;background-color: white;position: relative;}#sk-container-id-1 div.sk-item::before, #sk-container-id-1 div.sk-parallel-item::before {content: \"\";position: absolute;border-left: 1px solid gray;box-sizing: border-box;top: 0;bottom: 0;left: 50%;z-index: -1;}#sk-container-id-1 div.sk-parallel-item {display: flex;flex-direction: column;z-index: 1;position: relative;background-color: white;}#sk-container-id-1 div.sk-parallel-item:first-child::after {align-self: flex-end;width: 50%;}#sk-container-id-1 div.sk-parallel-item:last-child::after {align-self: flex-start;width: 50%;}#sk-container-id-1 div.sk-parallel-item:only-child::after {width: 0;}#sk-container-id-1 div.sk-dashed-wrapped {border: 1px dashed gray;margin: 0 0.4em 0.5em 0.4em;box-sizing: border-box;padding-bottom: 0.4em;background-color: white;}#sk-container-id-1 div.sk-label label {font-family: monospace;font-weight: bold;display: inline-block;line-height: 1.2em;}#sk-container-id-1 div.sk-label-container {text-align: center;}#sk-container-id-1 div.sk-container {/* jupyter's `normalize.less` sets `[hidden] { display: none; }` but bootstrap.min.css set `[hidden] { display: none !important; }` so we also need the `!important` here to be able to override the default hidden behavior on the sphinx rendered scikit-learn.org. See: https://github.com/scikit-learn/scikit-learn/issues/21755 */display: inline-block !important;position: relative;}#sk-container-id-1 div.sk-text-repr-fallback {display: none;}</style><div id=\"sk-container-id-1\" class=\"sk-top-container\"><div class=\"sk-text-repr-fallback\"><pre>RandomForestClassifier()</pre><b>In a Jupyter environment, please rerun this cell to show the HTML representation or trust the notebook. <br />On GitHub, the HTML representation is unable to render, please try loading this page with nbviewer.org.</b></div><div class=\"sk-container\" hidden><div class=\"sk-item\"><div class=\"sk-estimator sk-toggleable\"><input class=\"sk-toggleable__control sk-hidden--visually\" id=\"sk-estimator-id-1\" type=\"checkbox\" checked><label for=\"sk-estimator-id-1\" class=\"sk-toggleable__label sk-toggleable__label-arrow\">RandomForestClassifier</label><div class=\"sk-toggleable__content\"><pre>RandomForestClassifier()</pre></div></div></div></div></div>"
            ]
          },
          "metadata": {},
          "execution_count": 27
        }
      ]
    },
    {
      "cell_type": "markdown",
      "source": [
        "## **Predict Test Data**"
      ],
      "metadata": {
        "id": "Kx2x-7gR1CFS"
      }
    },
    {
      "cell_type": "code",
      "source": [
        "y_pred = rf.predict(X_test)"
      ],
      "metadata": {
        "id": "NhJcAxUt1HsK"
      },
      "execution_count": null,
      "outputs": []
    },
    {
      "cell_type": "code",
      "source": [
        "y_pred"
      ],
      "metadata": {
        "colab": {
          "base_uri": "https://localhost:8080/"
        },
        "id": "VycB0dRf1Hva",
        "outputId": "78562d72-7bd2-43ce-d56e-5bf04469c158"
      },
      "execution_count": null,
      "outputs": [
        {
          "output_type": "execute_result",
          "data": {
            "text/plain": [
              "array([5, 3, 9, 3, 2, 5, 4, 0, 5, 8, 7, 6, 9, 2, 2, 0, 2, 0, 5, 7, 7, 0,\n",
              "       7, 9, 1, 8, 6, 7, 9, 4, 9, 5, 9, 8, 3, 8, 3, 6, 4, 3, 7, 5, 8, 1,\n",
              "       9, 2, 6, 5, 1, 5, 0, 8, 2, 6, 0, 0, 5, 2, 2, 2, 5, 1, 0, 5, 5, 6,\n",
              "       0, 6, 0, 0, 1, 3, 2, 5, 6, 0, 8, 0, 6, 8, 6, 0, 2, 4, 1, 0, 1, 8,\n",
              "       6, 3, 9, 1, 7, 0, 4, 4, 3, 0, 6, 8, 2, 6, 7, 3, 9, 6, 8, 9, 7, 2,\n",
              "       2, 7, 8, 5, 4, 9, 6, 0, 1, 9, 7, 9, 3, 7, 3, 9, 9, 3, 1, 0, 5, 7,\n",
              "       8, 2, 4, 9, 7, 1, 9, 9, 4, 0, 9, 6, 7, 9, 1, 9, 9, 0, 0, 5, 9, 7,\n",
              "       6, 9, 2, 8, 2, 3, 2, 6, 2, 8, 0, 6, 4, 8, 3, 2, 5, 2, 8, 6, 1, 8,\n",
              "       7, 3, 6, 6, 3, 2, 2, 4, 2, 9, 9, 5, 6, 2, 3, 6, 1, 1, 9, 4, 4, 2,\n",
              "       6, 5, 4, 3, 2, 7, 7, 8, 9, 3, 5, 8, 4, 7, 5, 1, 5, 4, 0, 5, 4, 0,\n",
              "       1, 4, 3, 1, 3, 0, 5, 0, 5, 9, 3, 9, 6, 1, 0, 4, 1, 1, 5, 4, 4, 1,\n",
              "       3, 0, 1, 4, 1, 0, 8, 3, 2, 5, 8, 6, 5, 5, 7, 6, 5, 6, 1, 3, 0, 0,\n",
              "       8, 5, 9, 6, 9, 8, 8, 4, 4, 9, 6, 1, 7, 2, 4, 2, 0, 1, 4, 8, 2, 2,\n",
              "       1, 0, 5, 8, 4, 9, 0, 2, 0, 9, 8, 5, 8, 6, 3, 8, 9, 7, 4, 6, 0, 4,\n",
              "       7, 3, 7, 3, 2, 3, 9, 9, 9, 8, 9, 6, 0, 4, 3, 1, 6, 2, 3, 8, 9, 4,\n",
              "       6, 9, 9, 4, 5, 4, 4, 8, 5, 1, 3, 6, 6, 6, 8, 8, 1, 4, 2, 6, 8, 9,\n",
              "       5, 7, 7, 1, 7, 5, 2, 3, 4, 4, 9, 2, 0, 4, 8, 6, 8, 3, 1, 2, 0, 9,\n",
              "       1, 7, 5, 9, 7, 7, 3, 0, 1, 7, 9, 5, 7, 7, 6, 4, 5, 2, 0, 3, 1, 2,\n",
              "       0, 3, 2, 8, 9, 6, 0, 8, 9, 0, 6, 6, 0, 2, 4, 7, 7, 5, 4, 5, 1, 8,\n",
              "       5, 7, 9, 5, 5, 4, 7, 3, 7, 4, 7, 7, 2, 6, 1, 1, 0, 0, 0, 4, 7, 7,\n",
              "       9, 5, 7, 0, 4, 2, 9, 3, 1, 2, 7, 3, 5, 1, 6, 0, 5, 8, 5, 1, 5, 0,\n",
              "       4, 5, 1, 1, 9, 3, 0, 2, 1, 2, 1, 0, 3, 3, 6, 0, 3, 5, 3, 3, 0, 5,\n",
              "       4, 4, 1, 8, 6, 8, 8, 2, 9, 9, 0, 4, 1, 9, 9, 3, 5, 8, 6, 7, 8, 0,\n",
              "       0, 8, 1, 8, 9, 5, 3, 0, 4, 3, 1, 1, 7, 1, 7, 8, 7, 0, 4, 6, 3, 4,\n",
              "       7, 6, 2, 1, 1, 1, 3, 2, 6, 4, 6, 3])"
            ]
          },
          "metadata": {},
          "execution_count": 29
        }
      ]
    },
    {
      "cell_type": "markdown",
      "source": [
        "## **Model Accuracy**"
      ],
      "metadata": {
        "id": "30kBfza81SMW"
      }
    },
    {
      "cell_type": "code",
      "source": [
        "from sklearn.metrics import confusion_matrix, classification_report"
      ],
      "metadata": {
        "id": "RmxvEKUv1SZv"
      },
      "execution_count": null,
      "outputs": []
    },
    {
      "cell_type": "code",
      "source": [
        "confusion_matrix(y_test, y_pred)"
      ],
      "metadata": {
        "colab": {
          "base_uri": "https://localhost:8080/"
        },
        "id": "Lsj7LZWx1SdN",
        "outputId": "b10c3c1c-af9c-47ad-b550-fe02feaa6d51"
      },
      "execution_count": null,
      "outputs": [
        {
          "output_type": "execute_result",
          "data": {
            "text/plain": [
              "array([[60,  0,  0,  0,  0,  0,  0,  0,  0,  0],\n",
              "       [ 0, 51,  0,  0,  0,  0,  0,  0,  0,  0],\n",
              "       [ 0,  0, 51,  0,  0,  0,  0,  0,  0,  0],\n",
              "       [ 0,  0,  0, 52,  0,  0,  0,  0,  1,  0],\n",
              "       [ 0,  0,  0,  0, 53,  0,  0,  0,  0,  0],\n",
              "       [ 0,  0,  0,  0,  0, 54,  0,  0,  0,  2],\n",
              "       [ 1,  0,  0,  0,  0,  0, 54,  0,  0,  0],\n",
              "       [ 0,  0,  0,  0,  0,  0,  0, 50,  0,  0],\n",
              "       [ 0,  4,  0,  0,  0,  1,  0,  0, 48,  0],\n",
              "       [ 0,  0,  0,  0,  0,  0,  0,  0,  1, 57]])"
            ]
          },
          "metadata": {},
          "execution_count": 31
        }
      ]
    },
    {
      "cell_type": "code",
      "source": [
        "print(classification_report(y_test, y_pred))"
      ],
      "metadata": {
        "id": "JpzA1tb01hP9",
        "outputId": "91ae8979-6f4c-4523-b1c2-b41484c95ca2",
        "colab": {
          "base_uri": "https://localhost:8080/"
        }
      },
      "execution_count": null,
      "outputs": [
        {
          "output_type": "stream",
          "name": "stdout",
          "text": [
            "              precision    recall  f1-score   support\n",
            "\n",
            "           0       0.98      1.00      0.99        60\n",
            "           1       0.93      1.00      0.96        51\n",
            "           2       1.00      1.00      1.00        51\n",
            "           3       1.00      0.98      0.99        53\n",
            "           4       1.00      1.00      1.00        53\n",
            "           5       0.98      0.96      0.97        56\n",
            "           6       1.00      0.98      0.99        55\n",
            "           7       1.00      1.00      1.00        50\n",
            "           8       0.96      0.91      0.93        53\n",
            "           9       0.97      0.98      0.97        58\n",
            "\n",
            "    accuracy                           0.98       540\n",
            "   macro avg       0.98      0.98      0.98       540\n",
            "weighted avg       0.98      0.98      0.98       540\n",
            "\n"
          ]
        }
      ]
    }
  ]
}